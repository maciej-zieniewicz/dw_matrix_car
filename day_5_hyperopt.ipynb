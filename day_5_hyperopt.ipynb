{
  "nbformat": 4,
  "nbformat_minor": 0,
  "metadata": {
    "colab": {
      "name": "day_5_hyperopt.ipynb",
      "provenance": [],
      "collapsed_sections": [],
      "mount_file_id": "1hAIiKFOiPRNKdbUOVDVIkFZelfZ83LPy",
      "authorship_tag": "ABX9TyPGbMPawSi4iHyDhkYxGeU7"
    },
    "kernelspec": {
      "name": "python3",
      "display_name": "Python 3"
    }
  },
  "cells": [
    {
      "cell_type": "markdown",
      "metadata": {
        "id": "u5JThK98IcVc",
        "colab_type": "text"
      },
      "source": [
        "### Imports"
      ]
    },
    {
      "cell_type": "code",
      "metadata": {
        "id": "THFQq-TdVE7t",
        "colab_type": "code",
        "colab": {}
      },
      "source": [
        "import pandas as pd\n",
        "import numpy as np\n",
        "\n",
        "import xgboost as xgb\n",
        "\n",
        "from sklearn.metrics import mean_absolute_error as mae\n",
        "from sklearn.model_selection import cross_val_score\n",
        "\n",
        "from hyperopt import hp, fmin, tpe, STATUS_OK\n",
        "\n",
        "import eli5\n",
        "from eli5.sklearn import PermutationImportance"
      ],
      "execution_count": 0,
      "outputs": []
    },
    {
      "cell_type": "markdown",
      "metadata": {
        "id": "sEo11qY7Ig_U",
        "colab_type": "text"
      },
      "source": [
        "### Data Loading"
      ]
    },
    {
      "cell_type": "code",
      "metadata": {
        "id": "ZE5Gh9u3VUhr",
        "colab_type": "code",
        "outputId": "4aa2b72b-0bfb-4389-dca0-8338f49212cf",
        "colab": {
          "base_uri": "https://localhost:8080/",
          "height": 34
        }
      },
      "source": [
        "df = pd.read_hdf('data/car.h5')\n",
        "df.shape"
      ],
      "execution_count": 7,
      "outputs": [
        {
          "output_type": "execute_result",
          "data": {
            "text/plain": [
              "(106494, 155)"
            ]
          },
          "metadata": {
            "tags": []
          },
          "execution_count": 7
        }
      ]
    },
    {
      "cell_type": "markdown",
      "metadata": {
        "id": "Q0yPtLKzJBqb",
        "colab_type": "text"
      },
      "source": [
        "### Feature Engineering"
      ]
    },
    {
      "cell_type": "code",
      "metadata": {
        "id": "v3Rm0PafIuop",
        "colab_type": "code",
        "colab": {}
      },
      "source": [
        "SUFFIX_CAT = \"_cat\"\n",
        "for feat in df.columns:\n",
        "  if isinstance(df[feat][0], list): continue\n",
        "\n",
        "  factorized_values = df[feat].factorize()[0]\n",
        "  if SUFFIX_CAT in feat:\n",
        "    df[feat] = factorized_values\n",
        "  else:\n",
        "    df[feat + SUFFIX_CAT] = factorized_values "
      ],
      "execution_count": 0,
      "outputs": []
    },
    {
      "cell_type": "code",
      "metadata": {
        "id": "7NLdBooRJIB-",
        "colab_type": "code",
        "outputId": "be6edc63-dbf6-4db1-eca2-5c071d52bfeb",
        "colab": {
          "base_uri": "https://localhost:8080/",
          "height": 34
        }
      },
      "source": [
        "cat_feats = [x for x in df.columns if SUFFIX_CAT in x]\n",
        "cat_feats = [x for x in cat_feats if 'price' not in x]\n",
        "len(cat_feats)"
      ],
      "execution_count": 9,
      "outputs": [
        {
          "output_type": "execute_result",
          "data": {
            "text/plain": [
              "151"
            ]
          },
          "metadata": {
            "tags": []
          },
          "execution_count": 9
        }
      ]
    },
    {
      "cell_type": "code",
      "metadata": {
        "id": "nZy_Ou7gK4MZ",
        "colab_type": "code",
        "colab": {}
      },
      "source": [
        "def run_model(model, feats):\n",
        "  X = df[feats].values\n",
        "  y = df.price_value.values\n",
        "  scores = cross_val_score(model, X, y, cv=3, scoring ='neg_mean_absolute_error')\n",
        "  return np.mean(scores), np.std(scores)"
      ],
      "execution_count": 0,
      "outputs": []
    },
    {
      "cell_type": "markdown",
      "metadata": {
        "id": "9I4JSdC_N28a",
        "colab_type": "text"
      },
      "source": [
        "### XGboost"
      ]
    },
    {
      "cell_type": "code",
      "metadata": {
        "id": "-d8s-cpENsMI",
        "colab_type": "code",
        "outputId": "a4054148-57a0-4d5c-9ae7-abccf9bb10eb",
        "colab": {
          "base_uri": "https://localhost:8080/",
          "height": 104
        }
      },
      "source": [
        "xgb_params = {\n",
        "    'max_depth' : 5,\n",
        "    'n_estimators' : 50,\n",
        "    'learning_rate' : 0.1,\n",
        "    'seed' :0 \n",
        "}\n",
        "\n",
        "run_model(xgb.XGBRegressor(**xgb_params), cat_feats)"
      ],
      "execution_count": 11,
      "outputs": [
        {
          "output_type": "stream",
          "text": [
            "[10:07:25] WARNING: /workspace/src/objective/regression_obj.cu:152: reg:linear is now deprecated in favor of reg:squarederror.\n",
            "[10:07:45] WARNING: /workspace/src/objective/regression_obj.cu:152: reg:linear is now deprecated in favor of reg:squarederror.\n",
            "[10:08:05] WARNING: /workspace/src/objective/regression_obj.cu:152: reg:linear is now deprecated in favor of reg:squarederror.\n"
          ],
          "name": "stdout"
        },
        {
          "output_type": "execute_result",
          "data": {
            "text/plain": [
              "(-13108.379065811214, 74.32158265003798)"
            ]
          },
          "metadata": {
            "tags": []
          },
          "execution_count": 11
        }
      ]
    },
    {
      "cell_type": "code",
      "metadata": {
        "id": "Cry7CWH-Of7M",
        "colab_type": "code",
        "colab": {}
      },
      "source": [
        "X = df[cat_feats].values\n",
        "y = df.price_value.values"
      ],
      "execution_count": 0,
      "outputs": []
    },
    {
      "cell_type": "code",
      "metadata": {
        "id": "apfefOjrRXHg",
        "colab_type": "code",
        "outputId": "de2e4dc0-dfb1-4bf7-a655-7d05c0959443",
        "colab": {
          "base_uri": "https://localhost:8080/",
          "height": 34
        }
      },
      "source": [
        "feats = ['param_napęd_cat',\n",
        "'param_rok-produkcji_cat',\n",
        "'param_stan_cat',\n",
        "'param_skrzynia-biegów_cat',\n",
        "'param_faktura-vat_cat',\n",
        "'param_moc_cat',\n",
        "'param_marka-pojazdu_cat',\n",
        "'feature_kamera-cofania_cat',\n",
        "'param_typ_cat',\n",
        "'param_pojemność-skokowa_cat',\n",
        "'seller_name_cat',\n",
        "'feature_wspomaganie-kierownicy_cat',\n",
        "'param_model-pojazdu_cat',\n",
        "'param_wersja_cat',\n",
        "'param_kod-silnika_cat',\n",
        "'feature_system-start-stop_cat',\n",
        "'feature_asystent-pasa-ruchu_cat',\n",
        "'feature_czujniki-parkowania-przednie_cat',\n",
        "'feature_łopatki-zmiany-biegów_cat',\n",
        "'feature_regulowane-zawieszenie_cat']\n",
        "len(feats)"
      ],
      "execution_count": 13,
      "outputs": [
        {
          "output_type": "execute_result",
          "data": {
            "text/plain": [
              "20"
            ]
          },
          "metadata": {
            "tags": []
          },
          "execution_count": 13
        }
      ]
    },
    {
      "cell_type": "code",
      "metadata": {
        "id": "mFzthrkKS4Uf",
        "colab_type": "code",
        "outputId": "dea3d9b7-77e3-4608-8b69-e76fe5c58b1e",
        "colab": {
          "base_uri": "https://localhost:8080/",
          "height": 104
        }
      },
      "source": [
        "run_model(xgb.XGBRegressor(**xgb_params), feats)"
      ],
      "execution_count": 14,
      "outputs": [
        {
          "output_type": "stream",
          "text": [
            "[10:10:24] WARNING: /workspace/src/objective/regression_obj.cu:152: reg:linear is now deprecated in favor of reg:squarederror.\n",
            "[10:10:28] WARNING: /workspace/src/objective/regression_obj.cu:152: reg:linear is now deprecated in favor of reg:squarederror.\n",
            "[10:10:32] WARNING: /workspace/src/objective/regression_obj.cu:152: reg:linear is now deprecated in favor of reg:squarederror.\n"
          ],
          "name": "stdout"
        },
        {
          "output_type": "execute_result",
          "data": {
            "text/plain": [
              "(-13375.230420852275, 65.40441107118909)"
            ]
          },
          "metadata": {
            "tags": []
          },
          "execution_count": 14
        }
      ]
    },
    {
      "cell_type": "code",
      "metadata": {
        "id": "PK3Pmi51VCsa",
        "colab_type": "code",
        "outputId": "37739fe7-2ec0-4bd2-b4ea-2a0e1b047811",
        "colab": {
          "base_uri": "https://localhost:8080/",
          "height": 134
        }
      },
      "source": [
        "df['param_rok-produkcji'] = df['param_rok-produkcji'].map(lambda x: -1 if str(x) == 'None' else int(x))\n",
        "df['param_rok-produkcji'].unique()"
      ],
      "execution_count": 15,
      "outputs": [
        {
          "output_type": "execute_result",
          "data": {
            "text/plain": [
              "array([2018, 2011, 2015, 2009, 2017, 2012, 2013, 2007, 2001, 2016, 2006,\n",
              "       2008, 2004, 1999, 2000, 2010, 2005, 2002, 1998, 2014, 2003, 1982,\n",
              "       1995, 1997, 1992, 1993, 1994, 1996, 1989, 1988, 1967, 1987, 1970,\n",
              "       1959, 1990, 1991, 1974,   -1, 1975, 1973, 1953, 1985, 1984, 1986,\n",
              "       1981, 1979, 1960, 1983, 1978, 1964, 1980, 1972, 1969, 1956, 1966,\n",
              "       1977, 1962, 1965, 1971, 1963, 1961, 1952, 1949, 1976, 1937, 1968,\n",
              "       1958, 1955, 1933, 1929, 1957, 1944, 1954, 1932, 1936, 1947, 1948])"
            ]
          },
          "metadata": {
            "tags": []
          },
          "execution_count": 15
        }
      ]
    },
    {
      "cell_type": "code",
      "metadata": {
        "id": "2gwToMWDV3dr",
        "colab_type": "code",
        "outputId": "b2a008d4-2434-4d3f-db31-6f415f36940a",
        "colab": {
          "base_uri": "https://localhost:8080/",
          "height": 104
        }
      },
      "source": [
        "feats = ['param_napęd_cat',\n",
        "'param_rok-produkcji',\n",
        "'param_stan_cat',\n",
        "'param_skrzynia-biegów_cat',\n",
        "'param_faktura-vat_cat',\n",
        "'param_moc_cat',\n",
        "'param_marka-pojazdu_cat',\n",
        "'feature_kamera-cofania_cat',\n",
        "'param_typ_cat',\n",
        "'param_pojemność-skokowa_cat',\n",
        "'seller_name_cat',\n",
        "'feature_wspomaganie-kierownicy_cat',\n",
        "'param_model-pojazdu_cat',\n",
        "'param_wersja_cat',\n",
        "'param_kod-silnika_cat',\n",
        "'feature_system-start-stop_cat',\n",
        "'feature_asystent-pasa-ruchu_cat',\n",
        "'feature_czujniki-parkowania-przednie_cat',\n",
        "'feature_łopatki-zmiany-biegów_cat',\n",
        "'feature_regulowane-zawieszenie_cat']\n",
        "\n",
        "run_model(xgb.XGBRegressor(**xgb_params), feats)"
      ],
      "execution_count": 16,
      "outputs": [
        {
          "output_type": "stream",
          "text": [
            "[10:11:23] WARNING: /workspace/src/objective/regression_obj.cu:152: reg:linear is now deprecated in favor of reg:squarederror.\n",
            "[10:11:28] WARNING: /workspace/src/objective/regression_obj.cu:152: reg:linear is now deprecated in favor of reg:squarederror.\n",
            "[10:11:32] WARNING: /workspace/src/objective/regression_obj.cu:152: reg:linear is now deprecated in favor of reg:squarederror.\n"
          ],
          "name": "stdout"
        },
        {
          "output_type": "execute_result",
          "data": {
            "text/plain": [
              "(-11308.885890938496, 27.868488259630677)"
            ]
          },
          "metadata": {
            "tags": []
          },
          "execution_count": 16
        }
      ]
    },
    {
      "cell_type": "code",
      "metadata": {
        "id": "T5NFeMwSWaY1",
        "colab_type": "code",
        "colab": {}
      },
      "source": [
        "df['param_moc'] = df['param_moc'].map(lambda x: -1 if str(x) == 'None' else int(x.split('K')[0].replace(\" \", \"\")))"
      ],
      "execution_count": 0,
      "outputs": []
    },
    {
      "cell_type": "code",
      "metadata": {
        "id": "JCvhnUOTeZTT",
        "colab_type": "code",
        "outputId": "4af984dc-87d9-4326-8a91-d4aff8db336f",
        "colab": {
          "base_uri": "https://localhost:8080/",
          "height": 1000
        }
      },
      "source": [
        "df.param_moc.unique()"
      ],
      "execution_count": 18,
      "outputs": [
        {
          "output_type": "execute_result",
          "data": {
            "text/plain": [
              "array([    90,    115,    262,    110,    310,    105,    140,    175,\n",
              "          125,    185,    190,    440,    141,    200,    224,     75,\n",
              "           99,    184,    109,    233,    116,     68,    286,    126,\n",
              "          160,    135,    120,    272,     -1,    150,    180,    136,\n",
              "          102,    131,    218,    245,    170,    112,    250,    252,\n",
              "           73,    100,    313,    101,    285,     70,    383,    174,\n",
              "          277,    132,    130,    215,     60,    330,    163,    177,\n",
              "           98,     78,    189,    156,    143,     69,    113,     65,\n",
              "          122,     82,    251,     95,    197,    235,    238,    171,\n",
              "          381,    400,    178,     80,    165,     85,    258,    142,\n",
              "          204,    124,     55,    144,    231,    248,    152,    181,\n",
              "          210,    340,    129,    147,     50,     54,    290,    306,\n",
              "          193,     77,    164,     96,    194,    111,    166,    206,\n",
              "          118,    360,    211,    271,    455,    280,    106,    114,\n",
              "          421,     74,    213,    121,    275,    435,    384,    326,\n",
              "           88,    220,    260,     64,     86,    128,    256,    240,\n",
              "          244,    162,    237,    350,     35,    265,    202,    133,\n",
              "           83,    117,    146,     92,    192,    145,    525,    254,\n",
              "          182,    328,    367,    148,    456,     97,    270,    107,\n",
              "          108,    203,    155,     94,     93,    241,     20,     71,\n",
              "          173,     58,    205,    236,   1400,    557,     84,    457,\n",
              "           72,    295,    134,    425,    228,     81,    230,    201,\n",
              "           87,    234,    299,    585,    209,    370,   6600,    305,\n",
              "          382,    560,    158,    176,    320,    225,     62,    255,\n",
              "          300,    354,     45,    420,    510,    243,    239,    468,\n",
              "          409,     24,    335,    605,    410,    416,    183,    303,\n",
              "           59,      4,    283,    385,    104,    127,    278,    344,\n",
              "          365,    333,    680,    161,    195,    214,     66, 170000,\n",
              "          219,     89,     41,    249,    388,    103,    217,    570,\n",
              "          625,    364,    450,    138,    253,     67,    157,    405,\n",
              "          517,    319,    612,    188,    710,    274,    186,    139,\n",
              "        11000,   1006,    153,   1430,    323,    430,    329,    196,\n",
              "           57,    507,    207,    489,    460,    408,    308,    359,\n",
              "          312, 179600,    149,    550,    520,    380,    297,    347,\n",
              "          259,    212,    343,    309,     53,    169,    208,     76,\n",
              "          449,     47,    338,   1995,    470,    151,    168,    600,\n",
              "          660,     48,    264,    315,    232,     63,    630,     51,\n",
              "         1156,    351,    442,    191,      5,     91,     21,    407,\n",
              "          284,    346,    717,    276,    431,    179,    223,     40,\n",
              "          325,     11,    268,    640,    292,      1,    316,    477,\n",
              "        11555,    167,    390,    226,    317,    172,    187,   1005,\n",
              "          500,   6934,    289,    345,    558,    267,    540,      9,\n",
              "          279,    334,    137,    287,     10,    401,    199,    544,\n",
              "          298,    394,    780,    123,    530,    426,    307,    222,\n",
              "           79,    399,    263,    327,    610,    198,   1998,    404,\n",
              "           30,    502,    469,   1122,      3,    386,     61,    154,\n",
              "          428,    269,  10731,    311,    480,    376,    519,    361,\n",
              "          770,    453,   1600,    281,    294,    441,    332,    247,\n",
              "          227,    800,    288,    337,    324,    362,     23,    242,\n",
              "          357,     39,    575,    998,    273,      8,     56,    119,\n",
              "          462,     43,    355,     52,    387,    566,     12,    439,\n",
              "          352,    422,    296,    304,    555,    551,    485,     42,\n",
              "          397,    221,    348,    432,     37,    349,    302,    356,\n",
              "         2100,    476,    975,    369,    486,    246,   3700,    372,\n",
              "          318,    395,    514,  14800,    406,    412,   8498,    342,\n",
              "         9000,   1254,    445,     13,   2800,    229,    282,    495,\n",
              "          378,    490,    368,    472,    375,   7500,    363,    650,\n",
              "          159,   1110,     44,    434,    571, 543848,    707,    301,\n",
              "         2000,    216,   1100,     36,    266,   2300,    609,     46,\n",
              "         1116,   1300,    900,    339,    475,    573,    565,    396,\n",
              "         8500,    465,    685,    437,    257,   5100,    371,   2938,\n",
              "          492,    411,    526,     27,    549,  12648,    261, 177000,\n",
              "        10000,    293,   1984,    740,   2018, 175000,   1900,   1360,\n",
              "          581,   1781,     28, 174000,    501,    504,     31,  84800,\n",
              "         1991,    466,    576,   9600,    415,   7700,  10500,   1198,\n",
              "          799,     18,    447,    366,     15,   2465,    580,   1136,\n",
              "          670, 136000,  11200,    590,    564,   1000,   1500,     38,\n",
              "          291,   2840,    700,   2311,   1424,    745,     14,    321,\n",
              "          436,    314,    584,    336,     25, 140000,    531,      2,\n",
              "         1540,    529,    467,    478,   8568,    322, 140105])"
            ]
          },
          "metadata": {
            "tags": []
          },
          "execution_count": 18
        }
      ]
    },
    {
      "cell_type": "code",
      "metadata": {
        "id": "iny6O4NCW8FT",
        "colab_type": "code",
        "outputId": "1719c75d-8925-4681-f159-381d76835d6b",
        "colab": {
          "base_uri": "https://localhost:8080/",
          "height": 104
        }
      },
      "source": [
        "feats = ['param_napęd_cat',\n",
        "'param_rok-produkcji',\n",
        "'param_stan_cat',\n",
        "'param_skrzynia-biegów_cat',\n",
        "'param_faktura-vat_cat',\n",
        "'param_moc',\n",
        "'param_marka-pojazdu_cat',\n",
        "'feature_kamera-cofania_cat',\n",
        "'param_typ_cat',\n",
        "'param_pojemność-skokowa_cat',\n",
        "'seller_name_cat',\n",
        "'feature_wspomaganie-kierownicy_cat',\n",
        "'param_model-pojazdu_cat',\n",
        "'param_wersja_cat',\n",
        "'param_kod-silnika_cat',\n",
        "'feature_system-start-stop_cat',\n",
        "'feature_asystent-pasa-ruchu_cat',\n",
        "'feature_czujniki-parkowania-przednie_cat',\n",
        "'feature_łopatki-zmiany-biegów_cat',\n",
        "'feature_regulowane-zawieszenie_cat']\n",
        "\n",
        "run_model(xgb.XGBRegressor(**xgb_params), feats)"
      ],
      "execution_count": 19,
      "outputs": [
        {
          "output_type": "stream",
          "text": [
            "[10:12:22] WARNING: /workspace/src/objective/regression_obj.cu:152: reg:linear is now deprecated in favor of reg:squarederror.\n",
            "[10:12:27] WARNING: /workspace/src/objective/regression_obj.cu:152: reg:linear is now deprecated in favor of reg:squarederror.\n",
            "[10:12:31] WARNING: /workspace/src/objective/regression_obj.cu:152: reg:linear is now deprecated in favor of reg:squarederror.\n"
          ],
          "name": "stdout"
        },
        {
          "output_type": "execute_result",
          "data": {
            "text/plain": [
              "(-9754.814038220027, 78.76301552059402)"
            ]
          },
          "metadata": {
            "tags": []
          },
          "execution_count": 19
        }
      ]
    },
    {
      "cell_type": "code",
      "metadata": {
        "id": "YsjBeQx2YFgi",
        "colab_type": "code",
        "outputId": "1cea41d6-72f9-4f38-8699-97e7f0bf2922",
        "colab": {
          "base_uri": "https://localhost:8080/",
          "height": 104
        }
      },
      "source": [
        "df['param_pojemność-skokowa'] = df['param_pojemność-skokowa'].map(lambda x: -1 if str(x) == 'None' else int(x.split('cm')[0].replace(\" \",\"\")))\n",
        "\n",
        "feats = ['param_napęd_cat',\n",
        "'param_rok-produkcji',\n",
        "'param_stan_cat',\n",
        "'param_skrzynia-biegów_cat',\n",
        "'param_faktura-vat_cat',\n",
        "'param_moc',\n",
        "'param_marka-pojazdu_cat',\n",
        "'feature_kamera-cofania_cat',\n",
        "'param_typ_cat',\n",
        "'param_pojemność-skokowa',\n",
        "'seller_name_cat',\n",
        "'feature_wspomaganie-kierownicy_cat',\n",
        "'param_model-pojazdu_cat',\n",
        "'param_wersja_cat',\n",
        "'param_kod-silnika_cat',\n",
        "'feature_system-start-stop_cat',\n",
        "'feature_asystent-pasa-ruchu_cat',\n",
        "'feature_czujniki-parkowania-przednie_cat',\n",
        "'feature_łopatki-zmiany-biegów_cat',\n",
        "'feature_regulowane-zawieszenie_cat']\n",
        "\n",
        "run_model(xgb.XGBRegressor(**xgb_params), feats)"
      ],
      "execution_count": 20,
      "outputs": [
        {
          "output_type": "stream",
          "text": [
            "[10:12:50] WARNING: /workspace/src/objective/regression_obj.cu:152: reg:linear is now deprecated in favor of reg:squarederror.\n",
            "[10:12:54] WARNING: /workspace/src/objective/regression_obj.cu:152: reg:linear is now deprecated in favor of reg:squarederror.\n",
            "[10:12:58] WARNING: /workspace/src/objective/regression_obj.cu:152: reg:linear is now deprecated in favor of reg:squarederror.\n"
          ],
          "name": "stdout"
        },
        {
          "output_type": "execute_result",
          "data": {
            "text/plain": [
              "(-9621.119663721702, 100.59307679134791)"
            ]
          },
          "metadata": {
            "tags": []
          },
          "execution_count": 20
        }
      ]
    },
    {
      "cell_type": "markdown",
      "metadata": {
        "id": "HLzfqwg0gQyc",
        "colab_type": "text"
      },
      "source": [
        "### Hyperopt"
      ]
    },
    {
      "cell_type": "code",
      "metadata": {
        "id": "fN4ueHNve-Uk",
        "colab_type": "code",
        "colab": {
          "base_uri": "https://localhost:8080/",
          "height": 894
        },
        "outputId": "3e126a33-6500-4ca4-be1f-21702ac3316c"
      },
      "source": [
        "def obj_func(params):\n",
        "  print('Training with params: ')\n",
        "  print(params)\n",
        "  mean_mae, score_std = run_model(xgb.XGBRegressor(**params), feats)\n",
        "\n",
        "  return { 'loss' : np.abs(mean_mae), 'status' : STATUS_OK}\n",
        "\n",
        "#space\n",
        "xgb_reg_params = {\n",
        "  'learning_rate' : hp.choice('learning_rate', np.arange(0.05, 0.31, 0.05)),\n",
        "  'max_depth': hp.choice('max_depth', np.arange(5,16,1, dtype=int)),\n",
        "  'subsample': hp.quniform('subsample', 0.5, 1, 0.05),\n",
        "  'colsample_bytree': hp.quniform('colsample_bytree', 0.5, 1, 0.05),\n",
        "  'objective': 'reg:squarederror',\n",
        "  'n_estimators': 100,\n",
        "  'seed' : 0\n",
        "}\n",
        "\n",
        "#run\n",
        "\n",
        "best = fmin(obj_func, xgb_reg_params, algo=tpe.suggest, max_evals=25)"
      ],
      "execution_count": 21,
      "outputs": [
        {
          "output_type": "stream",
          "text": [
            "Training with params: \n",
            "{'colsample_bytree': 1.0, 'learning_rate': 0.3, 'max_depth': 14, 'n_estimators': 100, 'objective': 'reg:squarederror', 'seed': 0, 'subsample': 0.55}\n",
            "Training with params: \n",
            "{'colsample_bytree': 0.9, 'learning_rate': 0.1, 'max_depth': 12, 'n_estimators': 100, 'objective': 'reg:squarederror', 'seed': 0, 'subsample': 1.0}\n",
            "Training with params: \n",
            "{'colsample_bytree': 0.5, 'learning_rate': 0.1, 'max_depth': 8, 'n_estimators': 100, 'objective': 'reg:squarederror', 'seed': 0, 'subsample': 0.55}\n",
            "Training with params: \n",
            "{'colsample_bytree': 0.9, 'learning_rate': 0.2, 'max_depth': 6, 'n_estimators': 100, 'objective': 'reg:squarederror', 'seed': 0, 'subsample': 0.6000000000000001}\n",
            "Training with params: \n",
            "{'colsample_bytree': 0.8500000000000001, 'learning_rate': 0.1, 'max_depth': 6, 'n_estimators': 100, 'objective': 'reg:squarederror', 'seed': 0, 'subsample': 0.7000000000000001}\n",
            "Training with params: \n",
            "{'colsample_bytree': 0.5, 'learning_rate': 0.1, 'max_depth': 8, 'n_estimators': 100, 'objective': 'reg:squarederror', 'seed': 0, 'subsample': 0.9500000000000001}\n",
            "Training with params: \n",
            "{'colsample_bytree': 1.0, 'learning_rate': 0.05, 'max_depth': 10, 'n_estimators': 100, 'objective': 'reg:squarederror', 'seed': 0, 'subsample': 0.8}\n",
            "Training with params: \n",
            "{'colsample_bytree': 0.7000000000000001, 'learning_rate': 0.25, 'max_depth': 5, 'n_estimators': 100, 'objective': 'reg:squarederror', 'seed': 0, 'subsample': 0.7000000000000001}\n",
            "Training with params: \n",
            "{'colsample_bytree': 0.5, 'learning_rate': 0.3, 'max_depth': 15, 'n_estimators': 100, 'objective': 'reg:squarederror', 'seed': 0, 'subsample': 0.8}\n",
            "Training with params: \n",
            "{'colsample_bytree': 0.6000000000000001, 'learning_rate': 0.25, 'max_depth': 8, 'n_estimators': 100, 'objective': 'reg:squarederror', 'seed': 0, 'subsample': 0.9500000000000001}\n",
            "Training with params: \n",
            "{'colsample_bytree': 0.7000000000000001, 'learning_rate': 0.05, 'max_depth': 5, 'n_estimators': 100, 'objective': 'reg:squarederror', 'seed': 0, 'subsample': 0.5}\n",
            "Training with params: \n",
            "{'colsample_bytree': 0.8, 'learning_rate': 0.1, 'max_depth': 13, 'n_estimators': 100, 'objective': 'reg:squarederror', 'seed': 0, 'subsample': 0.75}\n",
            "Training with params: \n",
            "{'colsample_bytree': 0.55, 'learning_rate': 0.05, 'max_depth': 7, 'n_estimators': 100, 'objective': 'reg:squarederror', 'seed': 0, 'subsample': 0.8500000000000001}\n",
            "Training with params: \n",
            "{'colsample_bytree': 1.0, 'learning_rate': 0.15000000000000002, 'max_depth': 7, 'n_estimators': 100, 'objective': 'reg:squarederror', 'seed': 0, 'subsample': 0.75}\n",
            "Training with params: \n",
            "{'colsample_bytree': 0.55, 'learning_rate': 0.25, 'max_depth': 15, 'n_estimators': 100, 'objective': 'reg:squarederror', 'seed': 0, 'subsample': 1.0}\n",
            "Training with params: \n",
            "{'colsample_bytree': 0.5, 'learning_rate': 0.1, 'max_depth': 13, 'n_estimators': 100, 'objective': 'reg:squarederror', 'seed': 0, 'subsample': 0.75}\n",
            "Training with params: \n",
            "{'colsample_bytree': 0.9, 'learning_rate': 0.15000000000000002, 'max_depth': 10, 'n_estimators': 100, 'objective': 'reg:squarederror', 'seed': 0, 'subsample': 0.65}\n",
            "Training with params: \n",
            "{'colsample_bytree': 0.6000000000000001, 'learning_rate': 0.05, 'max_depth': 14, 'n_estimators': 100, 'objective': 'reg:squarederror', 'seed': 0, 'subsample': 1.0}\n",
            "Training with params: \n",
            "{'colsample_bytree': 0.9500000000000001, 'learning_rate': 0.1, 'max_depth': 8, 'n_estimators': 100, 'objective': 'reg:squarederror', 'seed': 0, 'subsample': 0.65}\n",
            "Training with params: \n",
            "{'colsample_bytree': 0.8500000000000001, 'learning_rate': 0.15000000000000002, 'max_depth': 15, 'n_estimators': 100, 'objective': 'reg:squarederror', 'seed': 0, 'subsample': 0.8500000000000001}\n",
            "Training with params: \n",
            "{'colsample_bytree': 0.75, 'learning_rate': 0.2, 'max_depth': 13, 'n_estimators': 100, 'objective': 'reg:squarederror', 'seed': 0, 'subsample': 0.9}\n",
            "Training with params: \n",
            "{'colsample_bytree': 0.75, 'learning_rate': 0.05, 'max_depth': 11, 'n_estimators': 100, 'objective': 'reg:squarederror', 'seed': 0, 'subsample': 0.8500000000000001}\n",
            "Training with params: \n",
            "{'colsample_bytree': 0.65, 'learning_rate': 0.05, 'max_depth': 14, 'n_estimators': 100, 'objective': 'reg:squarederror', 'seed': 0, 'subsample': 0.9500000000000001}\n",
            "Training with params: \n",
            "{'colsample_bytree': 0.8, 'learning_rate': 0.2, 'max_depth': 9, 'n_estimators': 100, 'objective': 'reg:squarederror', 'seed': 0, 'subsample': 0.9}\n",
            "Training with params: \n",
            "{'colsample_bytree': 0.65, 'learning_rate': 0.05, 'max_depth': 14, 'n_estimators': 100, 'objective': 'reg:squarederror', 'seed': 0, 'subsample': 0.8}\n",
            "100%|██████████| 25/25 [24:29<00:00, 69.26s/it, best loss: 7455.373502283873]\n"
          ],
          "name": "stdout"
        }
      ]
    }
  ]
}